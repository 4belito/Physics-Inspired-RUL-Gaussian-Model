{
 "cells": [
  {
   "cell_type": "markdown",
   "metadata": {},
   "source": [
    "# Online Performance Prediction Simulation"
   ]
  },
  {
   "cell_type": "code",
   "execution_count": null,
   "metadata": {},
   "outputs": [],
   "source": [
    "import numpy as np\n",
    "import torch\n",
    "from pickle import load\n",
    "import matplotlib.pyplot as plt\n",
    "\n",
    "# custom modules\n",
    "from method import compute_eval_matrices\n",
    "from watercan import GroupWaterCan\n",
    "from visualization import make_perform_video"
   ]
  },
  {
   "cell_type": "code",
   "execution_count": null,
   "metadata": {},
   "outputs": [],
   "source": [
    "device = torch.device(\"cuda:0\" if torch.cuda.is_available() else \"cpu\")\n",
    "print(device)"
   ]
  },
  {
   "cell_type": "markdown",
   "metadata": {},
   "source": [
    "# Get the data"
   ]
  },
  {
   "cell_type": "code",
   "execution_count": null,
   "metadata": {},
   "outputs": [],
   "source": [
    "dataset_name='uav_data'#'N-CMAPSS' #\n",
    "threshold_name=''#'-0.1' #  '+0.1' #"
   ]
  },
  {
   "cell_type": "markdown",
   "metadata": {},
   "source": [
    "# Load Test data"
   ]
  },
  {
   "cell_type": "code",
   "execution_count": null,
   "metadata": {},
   "outputs": [],
   "source": [
    "with open(f'./data/{dataset_name}/performs_info.pkl', 'rb') as file:\n",
    "        performs_info=load(file)\n",
    "\n",
    "with open(f'./data/{dataset_name}/times_test{threshold_name}.pkl', 'rb') as file:\n",
    "        t_observ = load(file)\n",
    "\n",
    "with open(f'./data/{dataset_name}/times_test{threshold_name}_threshold.pkl', 'rb') as file:\n",
    "        t_observ_thresholds = load(file)\n",
    "\n",
    "\n",
    "performs = {}\n",
    "thresholds = {}\n",
    "for name in performs_info.keys():\n",
    "        with open(f'./data/{dataset_name}/{name}_test{threshold_name}.pkl', 'rb') as file:\n",
    "                performs[name] = load(file)\n",
    "        with open(f'./data/{dataset_name}/{name}_test{threshold_name}_threshold.pkl', 'rb') as file:\n",
    "                thresholds[name]= load(file)"
   ]
  },
  {
   "cell_type": "markdown",
   "metadata": {},
   "source": [
    "## Choose Library"
   ]
  },
  {
   "cell_type": "code",
   "execution_count": null,
   "metadata": {},
   "outputs": [],
   "source": [
    "library_address=f'./Library/MTL_2024-08-17_{dataset_name}/'"
   ]
  },
  {
   "cell_type": "markdown",
   "metadata": {},
   "source": [
    "## Load Group Distributions"
   ]
  },
  {
   "cell_type": "code",
   "execution_count": null,
   "metadata": {},
   "outputs": [],
   "source": [
    "group_distributions={}\n",
    "for perform_name in performs_info.keys():\n",
    "    perform_address=library_address+f'{perform_name}/'\n",
    "    configs=torch.load(perform_address+'config.pth')\n",
    "    model_state=torch.load(perform_address+'model_state.pth')\n",
    "    model=GroupWaterCan(configs)\n",
    "    model.load_state_dict(model_state)\n",
    "    model.to(device)\n",
    "    group_distributions[perform_name]=model\n",
    "t_observ_torch=[torch.tensor(time,device=device,dtype=torch.float32).unsqueeze(dim=1) for time in t_observ]"
   ]
  },
  {
   "cell_type": "markdown",
   "metadata": {},
   "source": [
    "# Compute and prepare A,b and time"
   ]
  },
  {
   "cell_type": "code",
   "execution_count": null,
   "metadata": {},
   "outputs": [],
   "source": [
    "n_test_unit=len(t_observ)\n",
    "As,Ss=compute_eval_matrices(group_distributions,t_observ_torch)\n",
    "test_unit_list=range(n_test_unit)\n",
    "bs = performs"
   ]
  },
  {
   "cell_type": "code",
   "execution_count": null,
   "metadata": {},
   "outputs": [],
   "source": [
    "n_train_unit =20 # 20\n",
    "n_paths = 10 # 10 #\n",
    "gammas={'SOC': 100, #0.001\n",
    "        'POS':100, #0.1 \n",
    "        'CUM':100}\n",
    "ood_coef=1.\n",
    "time_unit='hours'"
   ]
  },
  {
   "cell_type": "code",
   "execution_count": null,
   "metadata": {},
   "outputs": [],
   "source": [
    "performs_info.keys()"
   ]
  },
  {
   "cell_type": "code",
   "execution_count": null,
   "metadata": {},
   "outputs": [],
   "source": [
    "unit=1\n",
    "end_time=80\n",
    "density_time=200\n",
    "t = np.linspace(0, end_time, density_time)\n",
    "\n",
    "for name in performs_info.keys():#\n",
    "        threshold=np.interp(t, t_observ_thresholds[unit], thresholds[name][unit])\n",
    "\n",
    "        y_lim=performs_info[name]['y_lim']\n",
    "        loc=performs_info[name]['loc']\n",
    "        gamma=gammas[name] \n",
    "        group_distribution=group_distributions[name].get_sub_watercan(range(n_train_unit))\n",
    "        A=As[name][unit][:,:n_train_unit]\n",
    "        b=bs[name][unit]\n",
    "        S=Ss[name][unit][:,:n_train_unit]\n",
    "        make_perform_video(unit,group_distribution, \n",
    "                        t,threshold, t_observ[unit], \n",
    "                        A,b,S,\n",
    "                        time_est=None, A_est=None, b_est=None, \n",
    "                        gamma=gamma,n_train_unit=n_train_unit, n_paths=n_paths,ood_coef=ood_coef, \n",
    "                        name=name,frames=20,  \n",
    "                        y_lim=y_lim, loc=loc, time_unit=time_unit,save=False)\n"
   ]
  }
 ],
 "metadata": {
  "kernelspec": {
   "display_name": "abel",
   "language": "python",
   "name": "python3"
  },
  "language_info": {
   "codemirror_mode": {
    "name": "ipython",
    "version": 3
   },
   "file_extension": ".py",
   "mimetype": "text/x-python",
   "name": "python",
   "nbconvert_exporter": "python",
   "pygments_lexer": "ipython3",
   "version": "3.11.5"
  }
 },
 "nbformat": 4,
 "nbformat_minor": 2
}
