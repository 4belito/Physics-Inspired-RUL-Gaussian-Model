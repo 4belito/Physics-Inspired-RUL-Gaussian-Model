{
 "cells": [
  {
   "cell_type": "markdown",
   "metadata": {},
   "source": [
    "# RUL Prediction Video"
   ]
  },
  {
   "cell_type": "code",
   "execution_count": 1,
   "metadata": {},
   "outputs": [],
   "source": [
    "import numpy as np\n",
    "import torch\n",
    "from pickle import load,dump\n",
    "from datetime import date\n",
    "import os\n",
    "\n",
    "# Custom modules\n",
    "from method import compute_eval_matrices\n",
    "from visualization import make_rul_video \n",
    "from watercan import GroupWaterCan\n",
    "from helpers import get_from, np2gpu"
   ]
  },
  {
   "cell_type": "code",
   "execution_count": 2,
   "metadata": {},
   "outputs": [
    {
     "name": "stdout",
     "output_type": "stream",
     "text": [
      "cuda:0\n"
     ]
    }
   ],
   "source": [
    "device = torch.device(\"cuda:0\" if torch.cuda.is_available() else \"cpu\")\n",
    "print(device)"
   ]
  },
  {
   "cell_type": "markdown",
   "metadata": {},
   "source": [
    "## Fix Seed"
   ]
  },
  {
   "cell_type": "code",
   "execution_count": 3,
   "metadata": {},
   "outputs": [],
   "source": [
    "seed=0\n",
    "# Set seed for NumPy\n",
    "np.random.seed(seed)\n",
    "\n",
    "import torch\n",
    "\n",
    "# Set seed for PyTorch (both CPU and CUDA if available)\n",
    "torch.manual_seed(seed)\n",
    "if torch.cuda.is_available():\n",
    "    torch.cuda.manual_seed(seed)\n",
    "    torch.cuda.manual_seed_all(seed)  # For multi-GPU setups\n",
    "\n",
    "\n",
    "torch.backends.cudnn.deterministic = True\n",
    "torch.backends.cudnn.benchmark = False"
   ]
  },
  {
   "cell_type": "markdown",
   "metadata": {},
   "source": [
    "# Get the data"
   ]
  },
  {
   "cell_type": "code",
   "execution_count": 4,
   "metadata": {},
   "outputs": [],
   "source": [
    "dataset_name='N-CMAPSS_DS01' #'uav_data'#\n",
    "threshold_name=''#'-0.1' #  '+0.1' #\n",
    "\n",
    "#Eval parameters\n",
    "std_bound=0\n",
    "poly_deg=0"
   ]
  },
  {
   "cell_type": "markdown",
   "metadata": {},
   "source": [
    "# Load test data"
   ]
  },
  {
   "cell_type": "code",
   "execution_count": 5,
   "metadata": {},
   "outputs": [
    {
     "data": {
      "text/plain": [
       "['HPT_eff', 'HPT_eff', 'HPT_eff', 'HPT_eff']"
      ]
     },
     "execution_count": 5,
     "metadata": {},
     "output_type": "execute_result"
    }
   ],
   "source": [
    "with open(f'./data/{dataset_name}/performs_info.pkl', 'rb') as file:\n",
    "    performs_info=load(file)\n",
    "\n",
    "with open(f'./data/{dataset_name}/time_info.pkl', 'rb') as file:\n",
    "    time_info=load(file)\n",
    "    \n",
    "with open(f'./data/{dataset_name}/times_test{threshold_name}.pkl', 'rb') as file:\n",
    "    t_observ = load(file)\n",
    "\n",
    "with open(f'./data/{dataset_name}/times_test{threshold_name}_threshold.pkl', 'rb') as file:\n",
    "    times_thresholds = load(file)\n",
    "\n",
    "with open(f'./data/{dataset_name}/RUL_test{threshold_name}.pkl', 'rb') as file:\n",
    "    rul= load(file)\n",
    "\n",
    "with open(f'./data/{dataset_name}/EOLcause_test{threshold_name}.pkl', 'rb') as file:\n",
    "    EOLcause= load(file)\n",
    "\n",
    "performs = {}\n",
    "thresholds = {}\n",
    "for name in performs_info.keys():\n",
    "    with open(f'./data/{dataset_name}/{name}_test{threshold_name}.pkl', 'rb') as file:\n",
    "        performs[name] = load(file)\n",
    "    with open(f'./data/{dataset_name}/{name}_test{threshold_name}_threshold.pkl', 'rb') as file:\n",
    "        thresholds[name]= load(file)\n",
    "\n",
    "EOLcause"
   ]
  },
  {
   "cell_type": "markdown",
   "metadata": {},
   "source": [
    "## Add time 0"
   ]
  },
  {
   "cell_type": "code",
   "execution_count": 6,
   "metadata": {},
   "outputs": [],
   "source": [
    "rul_intercept=[r[0]-(r[0]-r[1])/(time[0]-time[1])*time[0] for time,r in zip(t_observ,rul)]\n",
    "rul=[np.concatenate([np.array((inter,)),ru])  for inter,ru in zip(rul_intercept,rul)]"
   ]
  },
  {
   "cell_type": "markdown",
   "metadata": {},
   "source": [
    "## Choose Library"
   ]
  },
  {
   "cell_type": "code",
   "execution_count": 7,
   "metadata": {},
   "outputs": [],
   "source": [
    "library_address=f'./Library/MTL_2024-09-20_{dataset_name}/'"
   ]
  },
  {
   "cell_type": "markdown",
   "metadata": {},
   "source": [
    "## Load Group Distribution"
   ]
  },
  {
   "cell_type": "code",
   "execution_count": 8,
   "metadata": {},
   "outputs": [],
   "source": [
    "group_distributions={}\n",
    "for perform_name in performs_info.keys():\n",
    "    perform_info=performs_info[perform_name]\n",
    "\n",
    "    perform_address=library_address+f'{perform_name}/'\n",
    "\n",
    "    configs=torch.load(perform_address+'config.pth')\n",
    "    model_state=torch.load(perform_address+'model_state.pth')\n",
    "    model=GroupWaterCan(configs)\n",
    "    model.load_state_dict(model_state)\n",
    "    model.to(device)\n",
    "    if poly_deg or std_bound:\n",
    "        with open(f'./data/{dataset_name}/times.pkl', 'rb') as file:\n",
    "            train_time = load(file)\n",
    "        xs_train=[np2gpu(time,device).unsqueeze(1) for time in train_time]\n",
    "        if std_bound:\n",
    "            max_std_ontrain=max([max(out[:,1]) for out in model(xs_train)]).item()\n",
    "            model.std_bound=std_bound*max_std_ontrain\n",
    "        if poly_deg:\n",
    "            model.set_taylor_extension(xs_train,poly_deg)\n",
    "            model.extend()\n",
    "    group_distributions[perform_name]=model\n",
    "t_observ_torch=[torch.tensor(time,device=device,dtype=torch.float32).unsqueeze(dim=1) for time in t_observ]"
   ]
  },
  {
   "cell_type": "markdown",
   "metadata": {},
   "source": [
    "# Compute and prepare A,b matrices and time"
   ]
  },
  {
   "cell_type": "code",
   "execution_count": 9,
   "metadata": {},
   "outputs": [],
   "source": [
    "n_test_unit=len(t_observ)\n",
    "As,Ss=compute_eval_matrices(group_distributions,t_observ_torch)\n",
    "test_unit_list=range(n_test_unit)\n",
    "bs = performs"
   ]
  },
  {
   "cell_type": "markdown",
   "metadata": {},
   "source": [
    "## Choose Experiment parameters"
   ]
  },
  {
   "cell_type": "code",
   "execution_count": 10,
   "metadata": {},
   "outputs": [],
   "source": [
    "# Performance-independent parameters\n",
    "n_train_unit =6 #20 # \n",
    "n_paths = 60 # 20 #\n",
    "lr=1\n",
    "forgetting=1\n",
    "conserv_pred=0.5\n",
    "gama_value=1\n",
    "\n",
    "# Performance-dependent parameters\n",
    "gamma={key:gama_value for key,perform in performs_info.items()} #perform['default_gamma'] #reaction_delay\n",
    "max_life =time_info['max_life']\n",
    "\n",
    "\n",
    "# Visualization\n",
    "accel=15*3600\n",
    "time_unit=time_info['time_unit']\n",
    "#max_life=max([time[-1] for time in t_observ])\n",
    "t = np.linspace(0, int(max_life+5), int((max_life+5)*20))"
   ]
  },
  {
   "cell_type": "code",
   "execution_count": 11,
   "metadata": {},
   "outputs": [],
   "source": [
    "config={'n_train_unit':n_train_unit,\n",
    "        'n_paths':n_paths,\n",
    "        'lr':lr,\n",
    "        'conserv_pred':conserv_pred,\n",
    "        'gamma':gamma,\n",
    "        'max_life':max_life}"
   ]
  },
  {
   "cell_type": "markdown",
   "metadata": {},
   "source": [
    "## Set Experiment name"
   ]
  },
  {
   "cell_type": "code",
   "execution_count": 12,
   "metadata": {},
   "outputs": [],
   "source": [
    "today = date.today()\n",
    "threshold_text=0 if not threshold_name else threshold_name"
   ]
  },
  {
   "cell_type": "code",
   "execution_count": 13,
   "metadata": {},
   "outputs": [],
   "source": [
    "exp=f'threshold{threshold_text}_{today}_try1_gamma{gama_value}_lr{lr}_forgetting{forgetting}_seed{seed}/'\n",
    "\n",
    "#exp='try'\n",
    "\n",
    "if exp == 'try':\n",
    "    n_train_unit =5 #5#\n",
    "    n_paths =5 #5# "
   ]
  },
  {
   "cell_type": "markdown",
   "metadata": {},
   "source": [
    "## Save experiment configuration"
   ]
  },
  {
   "cell_type": "code",
   "execution_count": 14,
   "metadata": {},
   "outputs": [],
   "source": [
    "exp_address=library_address+f'_Experiments/{exp}'\n",
    "os.makedirs(exp_address, exist_ok=True)\n",
    "with open(exp_address+'config.pth', \"wb\") as f:\n",
    "    dump(config, f)"
   ]
  },
  {
   "cell_type": "markdown",
   "metadata": {},
   "source": [
    "## Predicts"
   ]
  },
  {
   "cell_type": "code",
   "execution_count": 15,
   "metadata": {},
   "outputs": [
    {
     "name": "stdout",
     "output_type": "stream",
     "text": [
      "time 0, present alpha var: [0.14124294 0.0960452  0.15254237 0.18644068 0.15254237 0.11864407]\n",
      "time 0, future alpha var: [0.16666667 0.16666667 0.16666667 0.16666667 0.16666667 0.16666667]\n",
      "time 1, present alpha var: [0.164826   0.05361117 0.08429974 0.4715964  0.11136471 0.08586773]\n",
      "time 1, future alpha var: [0.19996748 0.19307906 0.23874081 0.20337995 0.22164421 0.2314686 ]\n",
      "time 2, present alpha var: [0.0547946  0.24569239 0.24945015 0.29037917 0.09506071 0.10768893]\n",
      "time 2, future alpha var: [0.22772692 0.36785481 0.1836424  0.3773585  0.23393704 0.22396544]\n",
      "time 3, present alpha var: [0.133687   0.26149675 0.25759795 0.27542296 0.20840184 0.29230446]\n",
      "time 3, future alpha var: [0.20338524 0.34108591 0.28929382 0.26459522 0.27609293 0.35462237]\n",
      "time 4, present alpha var: [0.10732718 0.50143886 0.8654556  0.20483772 0.02776336 0.15276712]\n",
      "time 4, future alpha var: [0.21950647 0.43997051 0.26179233 0.27292634 0.21893845 0.30429656]\n",
      "time 5, present alpha var: [0.09876033 0.21332984 1.2155893  0.19458166 0.36662182 0.1989475 ]\n",
      "time 5, future alpha var: [0.23750091 0.37523935 0.5080939  0.23526809 0.49259225 0.25261244]\n",
      "time 6, present alpha var: [0.09826502 0.13545683 0.47135517 0.1143006  0.232587   0.28574413]\n",
      "time 6, future alpha var: [0.23939916 0.27215293 1.14163589 0.26640185 0.38954401 0.51998809]\n",
      "time 7, present alpha var: [0.05341039 0.10525431 0.31721535 0.09764213 0.19379535 0.26357216]\n",
      "time 7, future alpha var: [0.20590962 0.27119251 0.59389333 0.25146494 0.25969462 0.46782212]\n",
      "time 8, present alpha var: [0.11548625 0.07592385 0.18759562 0.11470538 0.06892846 0.10981341]\n",
      "time 8, future alpha var: [0.25444466 0.22148886 0.56138313 0.28389288 0.2121879  0.29816073]\n",
      "time 9, present alpha var: [0.08238348 0.19702932 0.30724987 0.12115213 0.07659019 0.16345277]\n",
      "time 9, future alpha var: [0.22418919 0.36163488 0.43845898 0.23629478 0.2153715  0.3583057 ]\n",
      "time 10, present alpha var: [0.05409845 0.17446035 0.1124561  0.08453882 0.09218436 0.16911176]\n",
      "time 10, future alpha var: [0.19895249 0.34503026 0.56840207 0.23180644 0.23220853 0.40372252]\n",
      "time 11, present alpha var: [0.07978249 0.1422287  0.21871734 0.05958907 0.14333604 0.1677197 ]\n",
      "time 11, future alpha var: [0.22623758 0.23063986 0.47277977 0.19831579 0.27959923 0.49274462]\n",
      "time 12, present alpha var: [0.0445164  0.1705463  0.16346024 0.11117153 0.15437843 0.14032646]\n",
      "time 12, future alpha var: [0.1986001  0.27939312 0.4509675  0.25130533 0.2953027  0.39276043]\n",
      "time 13, present alpha var: [0.06100105 0.25448138 0.10165175 0.10700013 0.08592392 0.15198757]\n",
      "time 13, future alpha var: [0.23109029 0.25354806 0.3709439  0.21970818 0.24467491 0.4024708 ]\n",
      "time 14, present alpha var: [0.17422456 0.21259724 0.04913592 0.03562316 0.07200993 0.15856688]\n",
      "time 14, future alpha var: [0.31069311 0.52353686 0.27674952 0.21547958 0.22487457 0.29306936]\n",
      "time 15, present alpha var: [0.05159298 0.18215297 0.05255388 0.03639678 0.09730163 0.14914432]\n",
      "time 15, future alpha var: [0.24667828 0.41238291 0.27808636 0.18281922 0.24563309 0.41764091]\n",
      "time 16, present alpha var: [0.04028259 0.19224754 0.09319848 0.12327085 0.16516462 0.1809598 ]\n",
      "time 16, future alpha var: [0.19780728 0.31797259 0.33785616 0.24466862 0.31029071 0.41280841]\n",
      "time 17, present alpha var: [0.0602564  0.20975418 0.07561728 0.14831105 0.10202616 0.15613104]\n",
      "time 17, future alpha var: [0.20299232 0.31782517 0.32636936 0.28912669 0.23251976 0.36005731]\n",
      "time 18, present alpha var: [0.09234827 0.16576411 0.04071065 0.06300355 0.11053683 0.11766413]\n",
      "time 18, future alpha var: [0.19838197 0.35261923 0.38309676 0.20246397 0.25376361 0.30951693]\n",
      "time 19, present alpha var: [0.20440754 0.1640722  0.03777702 0.10822911 0.14227085 0.32342413]\n",
      "time 19, future alpha var: [0.21623109 0.30426797 0.36627714 0.21405882 0.27926048 0.27228776]\n",
      "time 20, present alpha var: [0.1443784  0.19500603 0.0145498  0.11008278 0.13999839 0.19757088]\n",
      "time 20, future alpha var: [0.23920764 0.42501983 0.26220737 0.25022124 0.28871555 0.49414421]\n",
      "time 21, present alpha var: [0.12562896 0.16032314 0.05457226 0.1315671  0.07551634 0.20489238]\n",
      "time 21, future alpha var: [0.32132899 0.34556439 0.25790879 0.25798039 0.22276412 0.43252162]\n",
      "time 22, present alpha var: [0.11790122 0.13779522 0.09107742 0.12811168 0.0540026  0.22695658]\n",
      "time 22, future alpha var: [0.30114487 0.32072043 0.29542813 0.28281092 0.19943371 0.36342582]\n",
      "time 23, present alpha var: [0.09116083 0.15797631 0.02387088 0.06896859 0.1828213  0.20054632]\n",
      "time 23, future alpha var: [0.25078097 0.34488517 0.35690781 0.19512568 0.34169542 0.35321128]\n",
      "time 24, present alpha var: [0.09089401 0.37443647 0.06635754 0.05647248 0.2500258  0.30355138]\n",
      "time 24, future alpha var: [0.20800782 0.31565696 0.33560328 0.19579286 0.2942541  0.47544505]\n",
      "time 25, present alpha var: [0.20505244 0.7085791  0.0729963  0.1083331  0.10750447 0.20801884]\n",
      "time 25, future alpha var: [0.23683347 0.28089585 0.24343024 0.1992904  0.26232855 0.60778581]\n",
      "time 26, present alpha var: [0.08597511 1.1417356  0.0069048  0.07705431 0.04972013 0.36580315]\n",
      "time 26, future alpha var: [0.29099906 0.90601672 0.29695931 0.21491582 0.19672364 0.38265666]\n",
      "time 27, present alpha var: [0.0411873  0.3474402  0.06952903 0.0865626  0.15838307 0.3013299 ]\n",
      "time 27, future alpha var: [0.23917019 0.49354935 0.28440567 0.21779856 0.24572072 0.5680724 ]\n",
      "time 28, present alpha var: [0.09498795 0.13132596 0.03810982 0.09070476 0.17744347 0.23007394]\n",
      "time 28, future alpha var: [0.24065015 0.27573718 0.3101616  0.23146312 0.34252356 0.53489562]\n",
      "time 29, present alpha var: [0.10017427 0.06331192 0.16456649 0.13238451 0.18223515 0.2527946 ]\n",
      "time 29, future alpha var: [0.28255884 0.20765832 0.32139816 0.25577772 0.26380847 0.46866415]\n",
      "time 30, present alpha var: [0.10969553 0.04919705 0.10570494 0.10425141 0.16322054 0.2673471 ]\n",
      "time 30, future alpha var: [0.28582027 0.18917413 0.3335133  0.23636156 0.32158425 0.44535922]\n",
      "time 31, present alpha var: [0.12716416 0.04618426 0.14177227 0.14689218 0.15274091 0.24596885]\n",
      "time 31, future alpha var: [0.26001286 0.18800744 0.35922013 0.2828928  0.29298313 0.36811485]\n",
      "time 32, present alpha var: [0.4613629  0.04950289 0.1049525  0.08317835 0.62578017 0.19405515]\n",
      "time 32, future alpha var: [0.24112207 0.19017944 0.34363748 0.21050251 0.31486809 0.41934551]\n",
      "time 33, present alpha var: [0.26948968 0.01542134 0.08453371 0.08099984 0.37757775 0.10631792]\n",
      "time 33, future alpha var: [0.40381125 0.1651958  0.24013205 0.1794036  0.57223536 0.26074879]\n",
      "time 34, present alpha var: [0.22718716 0.02146946 0.11940566 0.13146089 0.20022942 0.193214  ]\n",
      "time 34, future alpha var: [0.34850918 0.17838561 0.26755706 0.24583534 0.36768138 0.39755753]\n",
      "time 35, present alpha var: [0.21548118 0.09852554 0.07273168 0.1701574  0.08834893 0.15640794]\n",
      "time 35, future alpha var: [0.24738761 0.24438579 0.27210664 0.24686715 0.24263894 0.37976246]\n",
      "time 36, present alpha var: [0.12541164 0.16852611 0.09027819 0.20665114 0.22227642 0.21915343]\n",
      "time 36, future alpha var: [0.34487271 0.30532317 0.27120219 0.3044124  0.34723558 0.31160261]\n",
      "time 37, present alpha var: [0.38248003 0.08446124 0.12883997 0.39746654 0.16453244 0.23062329]\n",
      "time 37, future alpha var: [0.27879228 0.23265778 0.31831845 0.24120864 0.24254217 0.46522505]\n",
      "time 38, present alpha var: [0.26812372 0.01986918 0.01809621 0.45866698 0.19361012 0.28810465]\n",
      "time 38, future alpha var: [0.22671168 0.18712744 0.26217399 0.39588847 0.23931769 0.33539169]\n",
      "time 39, present alpha var: [0.15133452 0.08975668 0.06333782 0.15115531 0.08274713 0.17491317]\n",
      "time 39, future alpha var: [0.31071976 0.24310113 0.24563064 0.29492398 0.27114042 0.45896867]\n",
      "time 40, present alpha var: [0.16844203 0.0936365  0.08318243 0.20127743 0.44167343 0.28875935]\n",
      "time 40, future alpha var: [0.32028263 0.25236008 0.27181776 0.29941973 0.60789139 0.43425511]\n",
      "time 41, present alpha var: [0.22931685 0.04895772 0.04452652 0.2602241  0.4454024  0.19347692]\n",
      "time 41, future alpha var: [0.29482865 0.21584376 0.24429908 0.37627248 0.59771904 0.46052386]\n",
      "time 42, present alpha var: [0.16094944 0.04845496 0.1643019  0.18817213 0.2370816  0.10291111]\n",
      "time 42, future alpha var: [0.34808843 0.19218224 0.28209974 0.29057535 0.34039712 0.28579822]\n",
      "time 43, present alpha var: [0.1976824  0.08022451 0.10331149 0.18570465 0.177186   0.08958007]\n",
      "time 43, future alpha var: [0.36698351 0.23955503 0.28083907 0.30598575 0.33558352 0.23887834]\n",
      "time 44, present alpha var: [0.1780289  0.01861896 0.04248902 0.21357015 0.14064011 0.09235686]\n",
      "time 44, future alpha var: [0.43402851 0.18297976 0.23060105 0.33514398 0.2756713  0.23428859]\n",
      "time 45, present alpha var: [0.28782684 0.1568058  0.20233819 0.20975582 0.352793   0.16532025]\n",
      "time 45, future alpha var: [0.40885824 0.31531411 0.3538764  0.32234721 0.56012651 0.31493277]\n",
      "time 46, present alpha var: [0.19111343 0.03666267 0.05341193 0.13380627 0.15497115 0.16488881]\n",
      "time 46, future alpha var: [0.44174304 0.20354094 0.2154157  0.27118874 0.34900364 0.28862439]\n",
      "time 47, present alpha var: [0.15991497 0.013158   0.07907236 0.2196745  0.0449549  0.09294145]\n",
      "time 47, future alpha var: [0.44687153 0.17870417 0.24991094 0.34404342 0.22547726 0.23977407]\n",
      "time 48, present alpha var: [0.33246043 0.03322913 0.03862754 0.24626309 0.15216996 0.1135297 ]\n",
      "time 48, future alpha var: [0.42890702 0.204032   0.19062991 0.33782894 0.34094986 0.25912639]\n",
      "time 49, present alpha var: [0.13636716 0.08031558 0.10457162 0.09481238 0.29463768 0.1441664 ]\n",
      "time 49, future alpha var: [0.52563711 0.24607038 0.25434787 0.23794735 0.5006148  0.28830788]\n",
      "time 50, present alpha var: [0.17130864 0.07300946 0.09125822 0.09833248 0.14201324 0.17694612]\n",
      "time 50, future alpha var: [0.48789764 0.23647333 0.23423811 0.23104463 0.38068686 0.35173346]\n",
      "time 51, present alpha var: [0.21494734 0.03582899 0.11649703 0.10674656 0.19675176 0.06525104]\n",
      "time 51, future alpha var: [0.40282104 0.20667484 0.25490213 0.24019573 0.41223774 0.2191659 ]\n",
      "time 52, present alpha var: [0.17652974 0.02583392 0.11241351 0.08670025 0.16437013 0.02728882]\n",
      "time 52, future alpha var: [0.42887786 0.20028682 0.23564163 0.22499249 0.38117389 0.18276678]\n",
      "time 53, present alpha var: [0.18870385 0.02464828 0.12060792 0.07821251 0.15003884 0.06350379]\n",
      "time 53, future alpha var: [0.38981119 0.20248168 0.24496547 0.23407625 0.33397692 0.22749944]\n",
      "time 54, present alpha var: [0.12893046 0.02678574 0.05964154 0.08853733 0.11842564 0.0694719 ]\n",
      "time 54, future alpha var: [0.41187896 0.20666038 0.21623624 0.2624814  0.32465859 0.22356894]\n",
      "time 55, present alpha var: [0.28999045 0.06479666 0.04329064 0.13421747 0.38746116 0.13213935]\n",
      "time 55, future alpha var: [0.35337177 0.25629753 0.21088217 0.35067232 0.5472227  0.27568637]\n",
      "time 56, present alpha var: [0.10247466 0.01901389 0.03218741 0.06885811 0.10192454 0.05559097]\n",
      "time 56, future alpha var: [0.35951998 0.20407043 0.24314366 0.27847948 0.29944408 0.20200724]\n",
      "time 57, present alpha var: [0.16781068 0.03633431 0.06037172 0.07933951 0.23713578 0.05635596]\n",
      "time 57, future alpha var: [0.34867794 0.23127496 0.24822437 0.33080569 0.43369475 0.20509113]\n",
      "time 58, present alpha var: [0.10214099 0.02846664 0.00950853 0.0904488  0.20865497 0.00764731]\n",
      "time 58, future alpha var: [0.3380264  0.23269393 0.24673507 0.34420925 0.37717912 0.16895423]\n",
      "time 59, present alpha var: [0.10610692 0.02770009 0.14778255 0.06801153 0.1345517  0.06666783]\n",
      "time 59, future alpha var: [0.3114461  0.23369124 0.34681414 0.34600048 0.36084817 0.22141452]\n",
      "time 60, present alpha var: [0.0911732  0.00879749 0.16045493 0.06947733 0.0406721  0.0698126 ]\n",
      "time 60, future alpha var: [0.32277571 0.21752632 0.36021724 0.34399914 0.28790638 0.22838448]\n",
      "time 61, present alpha var: [0.11209437 0.01647361 0.07089218 0.07476351 0.07422801 0.08136474]\n",
      "time 61, future alpha var: [0.28615218 0.23924977 0.26425002 0.3886731  0.3565319  0.22830367]\n",
      "time 62, present alpha var: [0.07254669 0.01343521 0.13134024 0.09020767 0.05973984 0.11506817]\n",
      "time 62, future alpha var: [0.28626857 0.24938847 0.35102225 0.36279921 0.30716715 0.26294283]\n",
      "time 63, present alpha var: [0.06735292 0.01793182 0.05861865 0.05710359 0.10012311 0.0865524 ]\n",
      "time 63, future alpha var: [0.31285051 0.26485287 0.30268231 0.34643537 0.36744641 0.23460824]\n",
      "time 64, present alpha var: [0.06899469 0.00929286 0.07771748 0.04708402 0.02562167 0.12238453]\n",
      "time 64, future alpha var: [0.26571541 0.27176654 0.30327468 0.38028957 0.30796633 0.27326748]\n",
      "time 65, present alpha var: [0.06083602 0.00706054 0.10366914 0.05994674 0.03817722 0.05199289]\n",
      "time 65, future alpha var: [0.27864497 0.28420696 0.29977623 0.39375254 0.31771168 0.18620537]\n",
      "time 66, present alpha var: [0.07601506 0.01000208 0.03980512 0.0887502  0.04847798 0.10033824]\n",
      "time 66, future alpha var: [0.26414248 0.3320527  0.28228714 0.38300756 0.33842272 0.26694522]\n",
      "time 67, present alpha var: [0.06446256 0.01584413 0.00564396 0.07252158 0.14991795 0.0405869 ]\n",
      "time 67, future alpha var: [0.26467332 0.37910809 0.27572741 0.40875573 0.4177677  0.18844571]\n",
      "time 68, present alpha var: [0.03681108 0.01529793 0.05384755 0.06326895 0.06091341 0.19752927]\n",
      "time 68, future alpha var: [0.34324666 0.41694762 0.33007578 0.32196869 0.35099653 0.32479928]\n",
      "time 69, present alpha var: [0.05073265 0.01703566 0.05953544 0.04512709 0.10250543 0.17168549]\n",
      "time 69, future alpha var: [0.33284476 0.47284652 0.31952577 0.36260773 0.42551786 0.30080136]\n",
      "time 70, present alpha var: [0.03554632 0.00995174 0.04637283 0.03222435 0.0577549  0.1676934 ]\n",
      "time 70, future alpha var: [0.34855366 0.52830432 0.29579403 0.34713055 0.40680226 0.32111598]\n",
      "time 71, present alpha var: [0.0483757  0.00855816 0.02661591 0.03737799 0.03845678 0.27000052]\n",
      "time 71, future alpha var: [0.330491   0.66849682 0.27842821 0.35746239 0.40982353 0.38560983]\n",
      "time 72, present alpha var: [0.0215997  0.01418571 0.0210581  0.04054566 0.10716297 0.2607952 ]\n",
      "time 72, future alpha var: [0.37756488 0.86705319 0.29261436 0.31431714 0.44055324 0.39095161]\n",
      "time 73, present alpha var: [0.03074934 0.00559029 0.04175987 0.01885099 0.02983952 0.11435247]\n",
      "time 73, future alpha var: [0.35250005 1.26733211 0.27778791 0.3634339  0.39942997 0.25100097]\n",
      "time 74, present alpha var: [0.00899288 0.00807712 0.00782591 0.01047247 0.09269053 0.07865664]\n",
      "time 74, future alpha var: [0.41768439 2.00127898 0.25186678 0.32650144 0.4384609  0.25810005]\n",
      "time 75, present alpha var: [0.03132943 0.00975475 0.03506126 0.02092876 0.07235453 0.30592877]\n",
      "time 75, future alpha var: [0.37703546 3.75218997 0.27958071 0.33795065 0.48399539 0.39533364]\n",
      "time 76, present alpha var: [0.02092746 0.027105   0.02070262 0.01294222 0.28834143 0.0984295 ]\n",
      "time 76, future alpha var: [0.41098499 9.20439438 0.25994595 0.35204417 0.61014428 0.28071754]\n",
      "time 77, present alpha var: [0.01492933 0.01542153 0.03455047 0.02092125 0.14605597 0.309437  ]\n",
      "time 77, future alpha var: [ 0.42655958 83.16187555  0.27686154  0.32188192  0.52075677  0.42165304]\n",
      "time 78, present alpha var: [0.01482591 0.02870816 0.02637134 0.00614449 0.3131047  0.04102365]\n",
      "time 78, future alpha var: [4.83668366e-01 3.53033960e+03 2.52883632e-01 3.61347845e-01\n",
      " 5.43848065e-01 3.35793922e-01]\n",
      "time 79, present alpha var: [0.01511513 0.00841024 0.0170057  0.00626936 0.10443952 0.13511273]\n",
      "time 79, future alpha var: [4.75175447e-01 1.44569667e+04 2.29649464e-01 3.69567784e-01\n",
      " 4.88820070e-01 3.39615614e-01]\n",
      "time 80, present alpha var: [0.00412722 0.01074725 0.01330378 0.00381609 0.13471273 0.04754801]\n",
      "time 80, future alpha var: [5.21230642e-01 1.74313544e+04 2.02405682e-01 3.59024671e-01\n",
      " 5.17032794e-01 3.01451206e-01]\n",
      "time 81, present alpha var: [0.0031121  0.01078792 0.01189805 0.00368486 0.14067486 0.02838578]\n",
      "time 81, future alpha var: [5.57810187e-01 1.41117508e+04 2.07781327e-01 3.70136791e-01\n",
      " 4.60006923e-01 3.46165298e-01]\n",
      "time 82, present alpha var: [0.00567183 0.0081446  0.01320226 0.00221448 0.10840223 0.07820727]\n",
      "time 82, future alpha var: [5.46766547e-01 9.08415538e+03 2.07388635e-01 3.90144799e-01\n",
      " 4.83743018e-01 3.54387510e-01]\n",
      "time 83, present alpha var: [0.00303653 0.00400761 0.00439262 0.0020586  0.05185236 0.01124179]\n",
      "time 83, future alpha var: [5.62162742e-01 4.92814621e+03 1.84740117e-01 4.16582786e-01\n",
      " 4.57570510e-01 2.91330952e-01]\n",
      "time 84, present alpha var: [0.00127226 0.00321016 0.00391789 0.00162736 0.04222997 0.00725789]\n",
      "time 84, future alpha var: [6.14096382e-01 2.41643514e+03 1.85056643e-01 4.24338520e-01\n",
      " 4.31769775e-01 2.99165973e-01]\n",
      "time 85, present alpha var: [0.00023324 0.00232155 0.00399867 0.00033225 0.02760995 0.00340056]\n",
      "time 85, future alpha var: [6.63021166e-01 1.41303044e+03 1.61608498e-01 4.50151854e-01\n",
      " 4.98935927e-01 3.23103582e-01]\n",
      "time 86, present alpha var: [0.00139744 0.00189172 0.00297311 0.0016059  0.02246332 0.00285158]\n",
      "time 86, future alpha var: [6.76365621e-01 6.28022375e+02 1.92906896e-01 5.08380510e-01\n",
      " 4.92896532e-01 2.96651006e-01]\n",
      "time 87, present alpha var: [0.00037002 0.00099954 0.00172368 0.00057581 0.00942277 0.00077005]\n",
      "time 87, future alpha var: [7.11500516e-01 2.83646767e+02 2.27664665e-01 5.80466170e-01\n",
      " 5.16719810e-01 2.92461382e-01]\n",
      "time 88, present alpha var: [0.00045405 0.00054008 0.00105016 0.00072649 0.0068793  0.00044222]\n",
      "time 88, future alpha var: [ 0.74561006 97.87565401  0.35547391  0.69983519  0.53804909  0.25619469]\n",
      "time 89, present alpha var: [7.40278483e-05 1.13062066e-04 7.33169218e-05 3.87881417e-04\n",
      " 2.22976925e-03 2.62029731e-04]\n",
      "time 89, future alpha var: [ 0.74972687 24.34825673  0.59634128  0.88632507  0.7776357   0.19338403]\n",
      "time 90, present alpha var: [3.4038007e-12 2.5828151e-13 1.3633991e-12 3.3530392e-12 1.6134137e-12\n",
      " 1.9621366e-12]\n",
      "time 90, future alpha var: [0.73660645 0.84012758 0.79955813 1.0077982  0.807759   0.14149902]\n",
      "Moviepy - Building video ./Library/MTL_2024-09-20_N-CMAPSS_DS01/_Experiments/threshold0_2024-09-21_try1_gamma1_lr1_forgetting1_seed0/unit0_pred.mp4.\n",
      "Moviepy - Writing video ./Library/MTL_2024-09-20_N-CMAPSS_DS01/_Experiments/threshold0_2024-09-21_try1_gamma1_lr1_forgetting1_seed0/unit0_pred.mp4\n",
      "\n"
     ]
    },
    {
     "name": "stderr",
     "output_type": "stream",
     "text": [
      "                                                             \r"
     ]
    },
    {
     "name": "stdout",
     "output_type": "stream",
     "text": [
      "Moviepy - Done !\n",
      "Moviepy - video ready ./Library/MTL_2024-09-20_N-CMAPSS_DS01/_Experiments/threshold0_2024-09-21_try1_gamma1_lr1_forgetting1_seed0/unit0_pred.mp4\n",
      "RMSE_acc: 5.301876093411662\n",
      "RMSE_csv: 13.050619959169806\n",
      "RMSE_unc: 10.946924903148137\n",
      "time 0, present alpha var: [0.1299435  0.11864407 0.16384181 0.11864407 0.15254237 0.16384181]\n",
      "time 0, future alpha var: [0.16666667 0.16666667 0.16666667 0.16666667 0.16666667 0.16666667]\n",
      "time 1, present alpha var: [0.0636645  0.04266135 0.52567244 0.10010388 0.13771762 0.14718184]\n",
      "time 1, future alpha var: [0.18781444 0.17939195 0.19552552 0.22877188 0.21932533 0.2022602 ]\n",
      "time 2, present alpha var: [0.12601638 3.9273434  0.25154322 0.0782975  0.24690914 0.30430073]\n",
      "time 2, future alpha var: [0.1609922  0.22617892 0.20698037 0.15226836 0.17921988 0.19918499]\n",
      "time 3, present alpha var: [0.40667015 3.0699303  0.78942776 0.06771783 0.17122714 0.08446142]\n",
      "time 3, future alpha var: [0.31074442 4.62547676 0.28236783 0.28905799 0.46377049 0.55600139]\n",
      "time 4, present alpha var: [0.12032978 0.9563837  1.083135   0.05493601 0.25876433 0.20675932]\n",
      "time 4, future alpha var: [0.25727166 0.96882658 0.47875878 0.29183115 0.40538714 0.55973219]\n",
      "time 5, present alpha var: [0.1923108  0.63764656 0.8218636  0.18104373 0.34705132 0.16820239]\n",
      "time 5, future alpha var: [0.31145058 0.52120217 0.52223168 0.3092017  0.48999411 0.37922007]\n",
      "time 6, present alpha var: [0.12408648 0.7941803  0.5249982  0.19033729 1.1576148  0.13342139]\n",
      "time 6, future alpha var: [0.26616557 0.35948811 0.45510833 0.34387261 0.31092721 0.2659465 ]\n",
      "time 7, present alpha var: [0.45475858 0.21671894 0.45618507 0.33799186 1.6843548  0.3715892 ]\n",
      "time 7, future alpha var: [0.30840631 0.33942556 0.61684511 0.22452614 1.45158639 0.28467927]\n",
      "time 8, present alpha var: [0.30650243 0.11727348 0.27287278 0.23244004 0.49481228 0.22532362]\n",
      "time 8, future alpha var: [0.33277588 0.26487847 0.72276354 0.44903741 0.64252548 0.38059442]\n",
      "time 9, present alpha var: [0.09774884 0.08234546 0.13368452 0.2809272  0.22637993 0.16598623]\n",
      "time 9, future alpha var: [0.28749086 0.24169895 0.53684208 0.53348201 0.32930903 0.43039101]\n",
      "time 10, present alpha var: [0.8923019  0.1352146  0.12606753 0.47969565 0.17359665 0.21176429]\n",
      "time 10, future alpha var: [0.22601737 0.24057996 0.39005348 0.67380246 0.30384258 0.29601127]\n",
      "time 11, present alpha var: [1.1898645  0.11789561 0.08563881 0.44084945 0.14359777 0.15871896]\n",
      "time 11, future alpha var: [0.56012469 0.25717151 0.32878061 0.4483305  0.24779325 0.27536506]\n",
      "time 12, present alpha var: [0.58059365 0.32890123 0.08325026 0.33795163 0.11349563 0.10491987]\n",
      "time 12, future alpha var: [1.05068321 0.31767149 0.22541684 0.43539052 0.31013215 0.26826669]\n",
      "time 13, present alpha var: [0.57004577 0.24762374 0.13780503 0.29988426 0.13561189 0.17084737]\n",
      "time 13, future alpha var: [0.51452653 0.37941037 0.31378262 0.53399338 0.240799   0.25758171]\n",
      "time 14, present alpha var: [0.24176918 0.13792741 0.0488297  0.2330638  0.13294543 0.14447114]\n",
      "time 14, future alpha var: [0.28337059 0.22058211 0.33221434 0.59886164 0.27891304 0.269623  ]\n",
      "time 15, present alpha var: [0.23499855 0.12427118 0.05200731 1.5236692  0.2158135  0.1935231 ]\n",
      "time 15, future alpha var: [0.41636251 0.23635215 0.24342091 0.54927309 0.20977451 0.24509377]\n",
      "time 16, present alpha var: [0.16651452 0.15133488 0.0558847  0.6603696  0.12421007 0.09869968]\n",
      "time 16, future alpha var: [0.36978554 0.2583202  0.2283055  1.08507988 0.36097145 0.24286225]\n",
      "time 17, present alpha var: [0.7698947  0.27941504 0.05991964 0.32867652 0.21844162 0.30085224]\n",
      "time 17, future alpha var: [0.25418641 0.38031462 0.22218093 0.69588665 0.34469253 0.2894749 ]\n",
      "time 18, present alpha var: [0.3434658  0.2727451  0.01578803 0.22227898 0.40165642 0.18351044]\n",
      "time 18, future alpha var: [0.73318318 0.28996022 0.18310824 0.27952635 0.24820023 0.26632108]\n"
     ]
    }
   ],
   "source": [
    "## Setup Method\n",
    "y_lim=get_from(performs_info,'y_lim')\n",
    "loc=get_from(performs_info,'loc')\n",
    "monot=get_from(performs_info,'monot')\n",
    "EOL_cause_text =get_from(performs_info,'EOL_cause') \n",
    "\n",
    "subgroup_distributions={name:group_dist.get_sub_watercan(range(n_train_unit)) for name,group_dist in group_distributions.items()}\n",
    "\n",
    "## Results initialization\n",
    "trues = []\n",
    "pred_names='acc','csv','unc'\n",
    "RMSEs={key: [] for key in pred_names}\n",
    "predss={key: [] for key in pred_names}\n",
    "causess={key: [] for key in pred_names}\n",
    "\n",
    "# For inmidiate information\n",
    "pred_acc=[]\n",
    "true=[]\n",
    "\n",
    "\n",
    "n_unit=1 if exp=='try' else n_test_unit\n",
    "for unit in range(n_unit): \n",
    "        A={}\n",
    "        S={}\n",
    "        b={}\n",
    "        threshold={}\n",
    "        for name in performs_info.keys():\n",
    "                A[name]= As[name][unit][:,:n_train_unit]\n",
    "                S[name]= Ss[name][unit][:,:n_train_unit]\n",
    "                b[name]= bs[name][unit]\n",
    "                thres=np.interp(t, times_thresholds[unit], thresholds[name][unit])\n",
    "                threshold[name]=torch.tensor(thres,dtype=torch.float32,device=device)\n",
    "\n",
    "        preds,causes=make_rul_video(unit,t,t_observ[unit],rul[unit],EOLcause[unit],\n",
    "                                monot, threshold, subgroup_distributions, A, b, S, gamma, y_lim, loc,\n",
    "                                perform_names=performs_info.keys(),causes_text=EOL_cause_text,time_unit=time_unit,\n",
    "                                n_train_unit=n_train_unit, n_paths=n_paths, lr=lr,forgetting=forgetting,max_life = max_life,\n",
    "                                accel=accel//3600, save=exp_address,conserv=conserv_pred)\n",
    "        y_true=rul[unit]\n",
    "\n",
    "        for name in pred_names:\n",
    "                RMSE=np.sqrt(np.mean((preds[name]-y_true)**2))\n",
    "                print(f\"RMSE_{name}: {RMSE}\")\n",
    "                RMSEs[name].append(RMSE)\n",
    "                predss[name].append(preds[name])\n",
    "                causess[name].append(causes[name])\n",
    "        trues.append(y_true)\n",
    "\n",
    "\n",
    "## Save predictions\n",
    "torch.save(predss,f'{exp_address}'+'preds.pt')\n",
    "torch.save(causess,f'{exp_address}'+'causes.pt')\n",
    "torch.save(trues,f'{exp_address}'+'trues.pt')\n",
    "\n",
    "\n",
    "## Accurate prediction Results\n",
    "print('----------------------------------')\n",
    "error=np.concatenate(predss['acc'])-np.concatenate(trues)\n",
    "RMSE=np.sqrt(np.mean(error**2))\n",
    "print(f\"RMSE_{name} mean: {RMSE}\")\n",
    "print(f\"RMSE_{name} std: {np.std(error)}\")\n",
    "print('----------------------------------')\n"
   ]
  },
  {
   "cell_type": "markdown",
   "metadata": {},
   "source": [
    "#### Load for checking"
   ]
  },
  {
   "cell_type": "code",
   "execution_count": 34,
   "metadata": {},
   "outputs": [],
   "source": [
    "predss=torch.load(f'{exp_address}/preds.pt')\n",
    "trues=torch.load(f'{exp_address}/trues.pt')"
   ]
  },
  {
   "cell_type": "code",
   "execution_count": 47,
   "metadata": {},
   "outputs": [
    {
     "name": "stdout",
     "output_type": "stream",
     "text": [
      "------------------------------- acc RMSE -------------------------------\n",
      "unit 0: 5.301876093411662\n",
      "unit 1: 4.163331998932265\n",
      "unit 2: 9.690264937962286\n",
      "unit 3: 3.2892669560912404\n",
      "----------------------------------\n",
      "RMSE_acc mean: 6.048595477164663\n",
      "RMSE_acc std: 5.84719947076493\n",
      "----------------------------------\n",
      "------------------------------- csv RMSE -------------------------------\n",
      "unit 0: 13.050619959169806\n",
      "unit 1: 12.340988615179905\n",
      "unit 2: 7.425348642934943\n",
      "unit 3: 6.8942091991705405\n",
      "----------------------------------\n",
      "RMSE_csv mean: 10.441972160884918\n",
      "RMSE_csv std: 8.457162401374221\n",
      "----------------------------------\n",
      "------------------------------- unc RMSE -------------------------------\n",
      "unit 0: 10.946924903148137\n",
      "unit 1: 8.881941729649485\n",
      "unit 2: 19.545451935374242\n",
      "unit 3: 13.412366169511637\n",
      "----------------------------------\n",
      "RMSE_unc mean: 13.60732965316322\n",
      "RMSE_unc std: 8.045660495200675\n",
      "----------------------------------\n"
     ]
    }
   ],
   "source": [
    "for name in pred_names:\n",
    "        print(f'------------------------------- {name} RMSE -------------------------------')\n",
    "        for unit in range(len(trues)):\n",
    "                RMSE=np.sqrt(np.mean((predss[name][unit]-trues[unit])**2))\n",
    "                print(f\"unit {unit}: {RMSE}\")\n",
    "        print('----------------------------------')\n",
    "        error=np.concatenate(predss[name])-np.concatenate(trues)\n",
    "        RMSE=np.sqrt(np.mean(error**2))\n",
    "        print(f\"RMSE_{name} mean: {RMSE}\")\n",
    "        print(f\"RMSE_{name} std: {np.std(error)}\")\n",
    "        print('----------------------------------')"
   ]
  },
  {
   "cell_type": "code",
   "execution_count": 48,
   "metadata": {},
   "outputs": [
    {
     "data": {
      "text/plain": [
       "'./Library/MTL_2024-09-20_N-CMAPSS_DS01/_Experiments/threshold0_2024-09-21_try1_gamma1_lr1_forgetting1_seed0/'"
      ]
     },
     "execution_count": 48,
     "metadata": {},
     "output_type": "execute_result"
    }
   ],
   "source": [
    "exp_address"
   ]
  }
 ],
 "metadata": {
  "kernelspec": {
   "display_name": "abel",
   "language": "python",
   "name": "python3"
  },
  "language_info": {
   "codemirror_mode": {
    "name": "ipython",
    "version": 3
   },
   "file_extension": ".py",
   "mimetype": "text/x-python",
   "name": "python",
   "nbconvert_exporter": "python",
   "pygments_lexer": "ipython3",
   "version": "3.11.5"
  }
 },
 "nbformat": 4,
 "nbformat_minor": 2
}
