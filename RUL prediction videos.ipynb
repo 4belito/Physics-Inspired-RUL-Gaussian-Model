{
 "cells": [
  {
   "cell_type": "markdown",
   "metadata": {},
   "source": [
    "# RUL Prediction Video"
   ]
  },
  {
   "cell_type": "code",
   "execution_count": 32,
   "metadata": {},
   "outputs": [],
   "source": [
    "import numpy as np\n",
    "import torch\n",
    "from pickle import load,dump\n",
    "from datetime import date\n",
    "\n",
    "# custom modules\n",
    "from method import compute_eval_matrices\n",
    "from watercan import GroupWaterCan\n",
    "from visualization import make_rul_video "
   ]
  },
  {
   "cell_type": "code",
   "execution_count": 33,
   "metadata": {},
   "outputs": [
    {
     "name": "stdout",
     "output_type": "stream",
     "text": [
      "cuda:0\n"
     ]
    }
   ],
   "source": [
    "device = torch.device(\"cuda:0\" if torch.cuda.is_available() else \"cpu\")\n",
    "print(device)"
   ]
  },
  {
   "cell_type": "markdown",
   "metadata": {},
   "source": [
    "# Get the data"
   ]
  },
  {
   "cell_type": "code",
   "execution_count": 34,
   "metadata": {},
   "outputs": [],
   "source": [
    "dataset_name='uav_data'#'N-CMAPSS' #\n",
    "threshold_name=''#'-0.1' #  '+0.1' #"
   ]
  },
  {
   "cell_type": "markdown",
   "metadata": {},
   "source": [
    "# Load testing varblocks and EOL Causes"
   ]
  },
  {
   "cell_type": "code",
   "execution_count": 35,
   "metadata": {},
   "outputs": [
    {
     "data": {
      "text/plain": [
       "['cumul time out',\n",
       " 'cumul time out',\n",
       " 'out of power',\n",
       " 'out of power',\n",
       " 'cumul time out',\n",
       " 'out of power',\n",
       " 'out of power',\n",
       " 'out of power',\n",
       " 'out of power',\n",
       " 'cumul time out',\n",
       " 'out of power',\n",
       " 'out of power',\n",
       " 'cumul time out',\n",
       " 'out of power',\n",
       " 'out of power',\n",
       " 'out of power',\n",
       " 'out of power',\n",
       " 'out of power',\n",
       " 'out of power',\n",
       " 'out of power']"
      ]
     },
     "execution_count": 35,
     "metadata": {},
     "output_type": "execute_result"
    }
   ],
   "source": [
    "with open(f'./data/{dataset_name}/performs_info.pkl', 'rb') as file:\n",
    "    performs_info=load(file)\n",
    "\n",
    "with open(f'./data/{dataset_name}/times_test{threshold_name}.pkl', 'rb') as file:\n",
    "    times = load(file)\n",
    "\n",
    "with open(f'./data/{dataset_name}/times_test{threshold_name}_threshold.pkl', 'rb') as file:\n",
    "    times_thresholds = load(file)\n",
    "\n",
    "with open(f'./data/{dataset_name}/RUL_test{threshold_name}.pkl', 'rb') as file:\n",
    "    rul= load(file)\n",
    "\n",
    "with open(f'./data/{dataset_name}/EOLcause_test{threshold_name}.pkl', 'rb') as file:\n",
    "    EOLcause= load(file)\n",
    "\n",
    "performs = {}\n",
    "thresholds = {}\n",
    "for name in performs_info.keys():\n",
    "    with open(f'./data/{dataset_name}/{name}_test{threshold_name}.pkl', 'rb') as file:\n",
    "        performs[name] = load(file)\n",
    "    with open(f'./data/{dataset_name}/{name}_test{threshold_name}_threshold.pkl', 'rb') as file:\n",
    "        thresholds[name]= load(file)\n",
    "\n",
    "EOLcause"
   ]
  },
  {
   "cell_type": "markdown",
   "metadata": {},
   "source": [
    "## Choose Library"
   ]
  },
  {
   "cell_type": "code",
   "execution_count": 36,
   "metadata": {},
   "outputs": [],
   "source": [
    "library_address=f'./Library/MTL_2024-08-17_{dataset_name}/'"
   ]
  },
  {
   "cell_type": "markdown",
   "metadata": {},
   "source": [
    "## Load Group Distribution"
   ]
  },
  {
   "cell_type": "code",
   "execution_count": 37,
   "metadata": {},
   "outputs": [],
   "source": [
    "group_distributions={}\n",
    "for perform_name in performs_info.keys():\n",
    "    perform_info=performs_info[perform_name]\n",
    "\n",
    "    perform_address=library_address+f'{perform_name}/'\n",
    "\n",
    "    configs=torch.load(perform_address+'config.pth')\n",
    "    model_state=torch.load(perform_address+'model_state.pth')\n",
    "    model=GroupWaterCan(configs)\n",
    "    model.load_state_dict(model_state)\n",
    "    model.to(device)\n",
    "    group_distributions[perform_name]=model\n",
    "times_torch=[torch.tensor(time,device=device,dtype=torch.float32).unsqueeze(dim=1) for time in times]"
   ]
  },
  {
   "cell_type": "markdown",
   "metadata": {},
   "source": [
    "# Compute and prepare A,b matrices and time"
   ]
  },
  {
   "cell_type": "code",
   "execution_count": 38,
   "metadata": {},
   "outputs": [],
   "source": [
    "n_test_unit=len(times)\n",
    "A,S=compute_eval_matrices(group_distributions,times_torch)\n",
    "test_unit_list=range(n_test_unit)\n",
    "b = performs"
   ]
  },
  {
   "cell_type": "markdown",
   "metadata": {},
   "source": [
    "## Predicts and plot Performance Curves"
   ]
  },
  {
   "cell_type": "code",
   "execution_count": 39,
   "metadata": {},
   "outputs": [],
   "source": [
    "n_train_unit =20 # 6\n",
    "n_paths = 20    # 10 #\n",
    "#gamma={'HI': 100}\n",
    "gamma={'SOC': 100,\n",
    "        'POS': 100,\n",
    "        'CUM': 100}\n",
    "ood_coef=1.\n",
    "\n",
    "conserv_pred=0.5"
   ]
  },
  {
   "cell_type": "code",
   "execution_count": 40,
   "metadata": {},
   "outputs": [],
   "source": [
    "config={'n_train_unit':n_train_unit,\n",
    "        'n_paths':n_paths,\n",
    "        'conserv_pred':conserv_pred,\n",
    "        'ood_coef':ood_coef}"
   ]
  },
  {
   "cell_type": "code",
   "execution_count": 41,
   "metadata": {},
   "outputs": [],
   "source": [
    "today = date.today()\n",
    "threshold_text=0 if not threshold_name else threshold_name\n",
    "exp=f'threshold{threshold_text}_{today}/'\n",
    "\n",
    "\n",
    "#exp='try'\n",
    "\n",
    "if exp == 'try':\n",
    "    n_train_unit =5 #5#\n",
    "    n_paths =5 #5# \n",
    "exp_address=library_address+f'Experiments/{exp}/'\n",
    "\n",
    "max_life = 100\n",
    "tol = 1e-4\n",
    "max_iter = 100\n",
    "import os\n",
    "os.makedirs(exp_address, exist_ok=True)\n",
    "with open(exp_address+'config.pth', \"wb\") as f:\n",
    "    dump(config, f)"
   ]
  },
  {
   "cell_type": "code",
   "execution_count": 42,
   "metadata": {},
   "outputs": [],
   "source": [
    "y_lim_={'SOC': (0.7,1),\n",
    "        'POS':(0,6.1),\n",
    "        'CUM':(0,28)}\n",
    "loc_={'SOC': 'lower left',\n",
    "        'POS':'upper left',\n",
    "        'CUM':'upper left'}\n",
    "        \n",
    "monot_={'SOC':'-', #0.1\n",
    "        'POS':'+', #0.1 \n",
    "        'CUM':'+'}\n",
    "\n",
    "gamma_={'SOC': 100, #0.001, #0.1\n",
    "        'POS': 100, #0.1, #0.1 \n",
    "        'CUM': 100} #1\n",
    "\n",
    "time_est_={'SOC': None, #0.1\n",
    "        'POS':None, #0.1 \n",
    "        'CUM':None}\n",
    "\n",
    "A_est_={'SOC': None, #0.1\n",
    "        'POS':None, #0.1 \n",
    "        'CUM':None}\n",
    "\n",
    "b_est_={'SOC': None, #0.1\n",
    "        'POS':None, #0.1 \n",
    "        'CUM':None}\n",
    "\n",
    "time_unit='hours'"
   ]
  },
  {
   "cell_type": "code",
   "execution_count": 43,
   "metadata": {},
   "outputs": [],
   "source": [
    "# y_lim_={'HI': (0,1)}\n",
    "# loc_={'HI': 'lower left'}\n",
    "# monot_={'HI':'-'}\n",
    "# gamma_={'HI': 100} #1\n",
    "# time_est_={'HI': None}\n",
    "\n",
    "# A_est_={'HI': None}\n",
    "\n",
    "# b_est_={'HI': None}\n",
    "\n",
    "# time_unit='cycle'\n"
   ]
  },
  {
   "cell_type": "code",
   "execution_count": 44,
   "metadata": {},
   "outputs": [
    {
     "data": {
      "text/plain": [
       "20"
      ]
     },
     "execution_count": 44,
     "metadata": {},
     "output_type": "execute_result"
    }
   ],
   "source": [
    "num_unit=len(times)\n",
    "num_unit"
   ]
  },
  {
   "cell_type": "code",
   "execution_count": 45,
   "metadata": {},
   "outputs": [
    {
     "name": "stdout",
     "output_type": "stream",
     "text": [
      "Moviepy - Building video ./Library/MTL_2024-08-17_uav_data/Experiments/threshold0_2024-08-20//unit0_pred.mp4.\n",
      "Moviepy - Writing video ./Library/MTL_2024-08-17_uav_data/Experiments/threshold0_2024-08-20//unit0_pred.mp4\n",
      "\n"
     ]
    },
    {
     "name": "stderr",
     "output_type": "stream",
     "text": [
      "                                                             \r"
     ]
    },
    {
     "name": "stdout",
     "output_type": "stream",
     "text": [
      "Moviepy - Done !\n",
      "Moviepy - video ready ./Library/MTL_2024-08-17_uav_data/Experiments/threshold0_2024-08-20//unit0_pred.mp4\n",
      "RMSE_acc: 3.5715682517052896\n",
      "RMSE_csv: 8.336861459711862\n",
      "RMSE_pred: 6.360698684898448\n",
      "RMSE_unc: 33.97562528213014\n",
      "Moviepy - Building video ./Library/MTL_2024-08-17_uav_data/Experiments/threshold0_2024-08-20//unit1_pred.mp4.\n",
      "Moviepy - Writing video ./Library/MTL_2024-08-17_uav_data/Experiments/threshold0_2024-08-20//unit1_pred.mp4\n",
      "\n"
     ]
    },
    {
     "name": "stderr",
     "output_type": "stream",
     "text": [
      "                                                             \r"
     ]
    },
    {
     "name": "stdout",
     "output_type": "stream",
     "text": [
      "Moviepy - Done !\n",
      "Moviepy - video ready ./Library/MTL_2024-08-17_uav_data/Experiments/threshold0_2024-08-20//unit1_pred.mp4\n",
      "RMSE_acc: 1.8033912049261662\n",
      "RMSE_csv: 6.10462751899454\n",
      "RMSE_pred: 4.144839759546991\n",
      "RMSE_unc: 28.095052019449128\n",
      "Moviepy - Building video ./Library/MTL_2024-08-17_uav_data/Experiments/threshold0_2024-08-20//unit2_pred.mp4.\n",
      "Moviepy - Writing video ./Library/MTL_2024-08-17_uav_data/Experiments/threshold0_2024-08-20//unit2_pred.mp4\n",
      "\n"
     ]
    },
    {
     "name": "stderr",
     "output_type": "stream",
     "text": [
      "                                                             \r"
     ]
    },
    {
     "name": "stdout",
     "output_type": "stream",
     "text": [
      "Moviepy - Done !\n",
      "Moviepy - video ready ./Library/MTL_2024-08-17_uav_data/Experiments/threshold0_2024-08-20//unit2_pred.mp4\n",
      "RMSE_acc: 9.800846267734414\n",
      "RMSE_csv: 14.789790173949136\n",
      "RMSE_pred: 12.786968276783718\n",
      "RMSE_unc: 16.76167782679253\n",
      "Moviepy - Building video ./Library/MTL_2024-08-17_uav_data/Experiments/threshold0_2024-08-20//unit3_pred.mp4.\n",
      "Moviepy - Writing video ./Library/MTL_2024-08-17_uav_data/Experiments/threshold0_2024-08-20//unit3_pred.mp4\n",
      "\n"
     ]
    },
    {
     "name": "stderr",
     "output_type": "stream",
     "text": [
      "                                                             \r"
     ]
    },
    {
     "name": "stdout",
     "output_type": "stream",
     "text": [
      "Moviepy - Done !\n",
      "Moviepy - video ready ./Library/MTL_2024-08-17_uav_data/Experiments/threshold0_2024-08-20//unit3_pred.mp4\n",
      "RMSE_acc: 6.181635039493803\n",
      "RMSE_csv: 11.209670238393038\n",
      "RMSE_pred: 9.17879597170502\n",
      "RMSE_unc: 19.951978181614894\n",
      "Moviepy - Building video ./Library/MTL_2024-08-17_uav_data/Experiments/threshold0_2024-08-20//unit4_pred.mp4.\n",
      "Moviepy - Writing video ./Library/MTL_2024-08-17_uav_data/Experiments/threshold0_2024-08-20//unit4_pred.mp4\n",
      "\n"
     ]
    },
    {
     "name": "stderr",
     "output_type": "stream",
     "text": [
      "                                                             \r"
     ]
    },
    {
     "name": "stdout",
     "output_type": "stream",
     "text": [
      "Moviepy - Done !\n",
      "Moviepy - video ready ./Library/MTL_2024-08-17_uav_data/Experiments/threshold0_2024-08-20//unit4_pred.mp4\n",
      "RMSE_acc: 4.182590143572881\n",
      "RMSE_csv: 8.755013994648602\n",
      "RMSE_pred: 6.959780608061313\n",
      "RMSE_unc: 20.834575575581933\n",
      "Moviepy - Building video ./Library/MTL_2024-08-17_uav_data/Experiments/threshold0_2024-08-20//unit5_pred.mp4.\n",
      "Moviepy - Writing video ./Library/MTL_2024-08-17_uav_data/Experiments/threshold0_2024-08-20//unit5_pred.mp4\n",
      "\n"
     ]
    },
    {
     "name": "stderr",
     "output_type": "stream",
     "text": [
      "                                                             \r"
     ]
    },
    {
     "name": "stdout",
     "output_type": "stream",
     "text": [
      "Moviepy - Done !\n",
      "Moviepy - video ready ./Library/MTL_2024-08-17_uav_data/Experiments/threshold0_2024-08-20//unit5_pred.mp4\n",
      "RMSE_acc: 4.257736709230391\n",
      "RMSE_csv: 9.569722325274858\n",
      "RMSE_pred: 7.2835896418717105\n",
      "RMSE_unc: 19.250250033362974\n",
      "Moviepy - Building video ./Library/MTL_2024-08-17_uav_data/Experiments/threshold0_2024-08-20//unit6_pred.mp4.\n",
      "Moviepy - Writing video ./Library/MTL_2024-08-17_uav_data/Experiments/threshold0_2024-08-20//unit6_pred.mp4\n",
      "\n"
     ]
    },
    {
     "name": "stderr",
     "output_type": "stream",
     "text": [
      "                                                             \r"
     ]
    },
    {
     "name": "stdout",
     "output_type": "stream",
     "text": [
      "Moviepy - Done !\n",
      "Moviepy - video ready ./Library/MTL_2024-08-17_uav_data/Experiments/threshold0_2024-08-20//unit6_pred.mp4\n",
      "RMSE_acc: 11.79484124850569\n",
      "RMSE_csv: 17.26262501235685\n",
      "RMSE_pred: 15.074452333426738\n",
      "RMSE_unc: 14.16897912239424\n"
     ]
    }
   ],
   "source": [
    "long_life=max([len(time) for time in times])\n",
    "pred_names='acc','csv','pred','unc'\n",
    "end_time=int(long_life+5)\n",
    "density_time=int((long_life+5)*2.5)\n",
    "t = np.linspace(0, end_time, density_time)\n",
    "\n",
    "num_unit=len(times)# RUL.shape[0]\n",
    "if exp=='try': num_unit=1\n",
    "accel=15*3600\n",
    "trues = []\n",
    "RMSEs={key: [] for key in pred_names}\n",
    "predss={key: [] for key in pred_names}\n",
    "causess={key: [] for key in pred_names}\n",
    "for unit in range(num_unit): #[5]\n",
    "        group_distribution_={}\n",
    "        A_={}\n",
    "        S_={}\n",
    "        b_={}\n",
    "        threshold_={}\n",
    "        for name in performs_info.keys():\n",
    "                group_distribution_[name]=group_distributions[name].get_sub_watercan(range(n_train_unit))\n",
    "                A_[name]= A[name][unit][:,:n_train_unit]\n",
    "                S_[name]= S[name][unit][:,:n_train_unit]\n",
    "                b_[name]= b[name][unit]\n",
    "\n",
    "                threshold=np.interp(t, times_thresholds[unit], thresholds[name][unit])\n",
    "                threshold_[name]=torch.tensor(threshold,dtype=torch.float32,device=device)\n",
    "\n",
    "        perform_info={'monot':monot_,\n",
    "                        'threshold': threshold_,\n",
    "                        'group_networks':group_distribution_,\n",
    "                        'A': A_,\n",
    "                        'b' : b_,\n",
    "                        'S' : S_,\n",
    "                        'gamma': gamma_,\n",
    "                        'y_lim': y_lim_,\n",
    "                        'loc' : loc_,\n",
    "                        'time_est':time_est_,\n",
    "                        'A_est':A_est_,\n",
    "                        'b_est':b_est_,\n",
    "        }\n",
    "        preds,causes=make_rul_video(unit,t,times[unit],rul[unit],EOLcause[unit],**perform_info, time_unit=time_unit,\n",
    "                                n_train_unit=n_train_unit, n_paths=20, ood_coef=ood_coef,\n",
    "                                max_life = max_life,tol = tol,max_iter = max_iter,\n",
    "                                accel=accel//3600, save=exp_address,conserv=conserv_pred)\n",
    "        y_true=rul[unit]\n",
    "\n",
    "        for name in pred_names:\n",
    "                RMSE=np.sqrt(np.mean((preds[name]-y_true)**2))\n",
    "                print(f\"RMSE_{name}: {RMSE}\")\n",
    "                RMSEs[name].append(RMSE)\n",
    "                predss[name].append(preds[name])\n",
    "                causess[name].append(causes[name])\n",
    "        trues.append(y_true)\n",
    "\n",
    "torch.save(predss,f'{exp_address}'+'preds.pt')\n",
    "torch.save(causess,f'{exp_address}'+'causes.pt')\n",
    "torch.save(trues,f'{exp_address}'+'trues.pt')\n",
    "print('----------------------------------------------------------------')\n",
    "for name in pred_names:\n",
    "        print(f\"RMSE_{name} mean: {np.mean(RMSEs[name],axis=0)}\")\n",
    "        print(f\"RMSE_{name} std: {np.std(RMSEs[name],axis=0)}\")\n",
    "print('----------------------------------------------------------------')"
   ]
  },
  {
   "cell_type": "code",
   "execution_count": null,
   "metadata": {},
   "outputs": [],
   "source": [
    "pred_names='acc','csv','pred','unc'\n",
    "\n",
    "predss=torch.load(f'{exp_address}/preds.pt')\n",
    "trues=torch.load(f'{exp_address}/trues.pt')"
   ]
  },
  {
   "cell_type": "code",
   "execution_count": null,
   "metadata": {},
   "outputs": [],
   "source": [
    "pred_names='acc','csv','pred','unc'\n",
    "\n",
    "predss=torch.load(f'{exp_address}/preds.pt')\n",
    "trues=torch.load(f'{exp_address}/trues.pt')"
   ]
  },
  {
   "cell_type": "code",
   "execution_count": null,
   "metadata": {},
   "outputs": [
    {
     "name": "stdout",
     "output_type": "stream",
     "text": [
      "------------------------------- acc RMSE -------------------------------\n",
      "unit 0: 8.215497322801998\n",
      "----------------------------------\n",
      "RMSE_acc mean: 8.215497322801998\n",
      "RMSE_acc std: 0.0\n",
      "----------------------------------\n",
      "------------------------------- csv RMSE -------------------------------\n",
      "unit 0: 2.5107059841633816\n",
      "----------------------------------\n",
      "RMSE_csv mean: 2.5107059841633816\n",
      "RMSE_csv std: 0.0\n",
      "----------------------------------\n",
      "------------------------------- pred RMSE -------------------------------\n",
      "unit 0: 2.1250098156963246\n",
      "----------------------------------\n",
      "RMSE_pred mean: 2.1250098156963246\n",
      "RMSE_pred std: 0.0\n",
      "----------------------------------\n",
      "------------------------------- unc RMSE -------------------------------\n",
      "unit 0: 35.92247579574413\n",
      "----------------------------------\n",
      "RMSE_unc mean: 35.92247579574413\n",
      "RMSE_unc std: 0.0\n",
      "----------------------------------\n"
     ]
    }
   ],
   "source": [
    "for name in pred_names:\n",
    "        print(f'------------------------------- {name} RMSE -------------------------------')\n",
    "        RMSEs=[]\n",
    "        for unit in range(len(trues)):\n",
    "                RMSE=np.sqrt(np.mean((predss[name][unit]-trues[unit])**2))\n",
    "                print(f\"unit {unit}: {RMSE}\")\n",
    "                RMSEs.append(RMSE)\n",
    "        print('----------------------------------')\n",
    "        print(f\"RMSE_{name} mean: {np.mean(RMSEs,axis=0)}\")\n",
    "        print(f\"RMSE_{name} std: {np.std(RMSEs,axis=0)}\")\n",
    "        print('----------------------------------')"
   ]
  },
  {
   "cell_type": "code",
   "execution_count": null,
   "metadata": {},
   "outputs": [
    {
     "data": {
      "text/plain": [
       "'./Library/MTL_2024-08-17_uav_data/Experiments/try/'"
      ]
     },
     "execution_count": 18,
     "metadata": {},
     "output_type": "execute_result"
    }
   ],
   "source": [
    "exp_address"
   ]
  },
  {
   "cell_type": "code",
   "execution_count": null,
   "metadata": {},
   "outputs": [],
   "source": []
  },
  {
   "cell_type": "code",
   "execution_count": null,
   "metadata": {},
   "outputs": [],
   "source": []
  }
 ],
 "metadata": {
  "kernelspec": {
   "display_name": "abel",
   "language": "python",
   "name": "python3"
  },
  "language_info": {
   "codemirror_mode": {
    "name": "ipython",
    "version": 3
   },
   "file_extension": ".py",
   "mimetype": "text/x-python",
   "name": "python",
   "nbconvert_exporter": "python",
   "pygments_lexer": "ipython3",
   "version": "3.11.5"
  }
 },
 "nbformat": 4,
 "nbformat_minor": 2
}
